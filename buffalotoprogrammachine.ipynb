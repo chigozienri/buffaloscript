{
 "cells": [
  {
   "cell_type": "markdown",
   "metadata": {},
   "source": [
    "This is a first pass at implementing buffaloscript. Buffalos are interpreted as Minsky Program Machine instructions, which is used to run the program."
   ]
  },
  {
   "cell_type": "code",
   "execution_count": 200,
   "metadata": {},
   "outputs": [],
   "source": [
    "# The Program Machine program we are aiming for\n",
    "src = \"\"\"buffalo 2\n",
    "Buffalo 0\n",
    "\n",
    "JZ buffalo 4\n",
    "DEC buffalo\n",
    "INC Buffalo\n",
    "JZ buffalo 0\n",
    "\"\"\""
   ]
  },
  {
   "cell_type": "code",
   "execution_count": 206,
   "metadata": {},
   "outputs": [],
   "source": [
    "program = \"Buffalo buffalo buffalo buffalo Buffalo buffalo buffalo. Buffalo buffalo buffalo buffalo. Buffalo buffalo Buffalo buffalo buffalo buffalo buffalo buffalo buffalo buffalo Buffalo buffalo. Buffalo buffalo buffalo buffalo buffalo buffalo buffalo buffalo. Buffalo buffalo buffalo buffalo Buffalo buffalo Buffalo buffalo buffalo buffalo. Buffalo buffalo Buffalo buffalo buffalo buffalo buffalo buffalo.\""
   ]
  },
  {
   "cell_type": "code",
   "execution_count": 207,
   "metadata": {},
   "outputs": [],
   "source": [
    "from buffaloparse import parse, parses\n",
    "\n",
    "def buf_to_binary(string):\n",
    "    if string == \"Buffalo\":\n",
    "        return 1\n",
    "    elif string == \"buffalo\":\n",
    "        return 0\n",
    "    else:\n",
    "        raise TypeError('must be Buffalo or buffalo')\n",
    "\n",
    "def reverse_binary_to_decimal(bin_list):\n",
    "    decimal = 0\n",
    "    for i, val in enumerate(bin_list):\n",
    "        decimal += int(val)*2**(i)\n",
    "    return decimal\n",
    "\n",
    "def reverse_binary_to_decimal_test():\n",
    "    assert binary_to_decimal(list('0')) == 0\n",
    "    assert binary_to_decimal(list('1')) == 1\n",
    "    assert binary_to_decimal(list('01')) == 2\n",
    "    assert binary_to_decimal(list('110')) == 3\n",
    "    assert binary_to_decimal(list('001')) == 4\n",
    "    assert binary_to_decimal(list('101')) == 5\n",
    "    assert binary_to_decimal(list('101000000')) == 5\n",
    "\n",
    "binary_to_decimal_test()\n",
    "\n",
    "\n",
    "def buf_list_to_binary(buf_list):\n",
    "    decimal_list = [buf_to_binary(buf) for i, buf in enumerate(buf_list) if i%2==0]\n",
    "    return reverse_binary_to_decimal(decimal_list)\n",
    "\n",
    "def buf_list_to_binary_test():\n",
    "    assert(buf_list_to_binary('buffalo buffalo'.split())) == 0\n",
    "    assert(buf_list_to_binary('Buffalo buffalo'.split())) == 1\n",
    "    assert(buf_list_to_binary('buffalo buffalo Buffalo buffalo'.split())) == 2\n",
    "    assert(buf_list_to_binary('Buffalo buffalo Buffalo buffalo'.split())) == 3\n",
    "\n",
    "buf_list_to_binary_test()\n",
    "\n",
    "def interpret(program):\n",
    "    program = program.split('.')\n",
    "    program = list(filter(lambda x: x not in ['','\\n'], program))\n",
    "    # check that each sentence parses. If not, just add more trailing buffalos\n",
    "    for i, statement in enumerate(program):\n",
    "        if not parses(statement):\n",
    "            raise RuntimeError(f'Line {i+1}: \"{statement}\" does not parse')\n",
    "    interpreted = []\n",
    "    # The first two sentences are interpreted as a binary number\n",
    "    # (except for the first two words, fixed as \"Buffalo buffalo\")\n",
    "    # initialising the registers with a value.\n",
    "    interpreted.append(f'buffalo {buf_list_to_binary(program[0].split()[2:])}')\n",
    "    interpreted.append(f'Buffalo {buf_list_to_binary(program[1].split()[2:])}')\n",
    "    interpreted.append('')\n",
    "    for statement in program[2:]:\n",
    "        statement = statement.split()\n",
    "        # If the first variable token is Buffalo, instruction is JZ\n",
    "        if statement[2] == 'Buffalo':\n",
    "            instruction = 'JZ'\n",
    "            # register to check for zero is second variable token\n",
    "            register = statement[4]\n",
    "            # rest of variable tokens binary encode line number to jump to\n",
    "            Z = buf_list_to_binary(statement[6:])\n",
    "            interpreted.append(' '.join([instruction, register, str(Z)]))\n",
    "        else:\n",
    "            # If first variable token not buffalo, second variable token\n",
    "            # tells us whether instruction is INC or DEC\n",
    "            if statement[4] == 'Buffalo':\n",
    "                instruction = 'INC'\n",
    "            elif statement[4] == 'buffalo':\n",
    "                instruction = 'DEC'\n",
    "            # register to act on is third variable token\n",
    "            register = statement[6]\n",
    "            interpreted.append(' '.join([instruction, register]))\n",
    "    return '\\n'.join(interpreted)"
   ]
  },
  {
   "cell_type": "code",
   "execution_count": 208,
   "metadata": {},
   "outputs": [
    {
     "name": "stdout",
     "output_type": "stream",
     "text": [
      "buffalo 2\n",
      "Buffalo 0\n",
      "\n",
      "JZ buffalo 4\n",
      "DEC buffalo\n",
      "INC Buffalo\n",
      "JZ buffalo 0\n"
     ]
    }
   ],
   "source": [
    "src = interpret(program)\n",
    "print(src)"
   ]
  },
  {
   "cell_type": "code",
   "execution_count": 209,
   "metadata": {},
   "outputs": [],
   "source": [
    "from programmachine import Register, Instructions"
   ]
  },
  {
   "cell_type": "code",
   "execution_count": 210,
   "metadata": {},
   "outputs": [
    {
     "name": "stdout",
     "output_type": "stream",
     "text": [
      "Initial Register Values\n",
      "-----------------------\n",
      "buffalo: 2\n",
      "Buffalo: 0\n",
      "\n",
      "Instructions\n",
      "------------\n",
      "1: JZ buffalo 4\n",
      "2: DEC buffalo\n",
      "3: INC Buffalo\n",
      "4: JZ buffalo 0\n",
      "\n",
      "Run program\n",
      "-----------\n",
      "line 1: register buffalo is not empty, doing nothing\n",
      "line 2: decreasing register buffalo from 2 to 1\n",
      "line 3: increasing register Buffalo from 0 to 1\n",
      "line 4: register buffalo is not empty, doing nothing\n",
      "line number out of range, halting\n",
      "\n",
      "Final Register Values on Halt\n",
      "-----------------------------\n",
      "buffalo: 1\n",
      "Buffalo: 1\n"
     ]
    }
   ],
   "source": [
    "instructions = Instructions(src)\n",
    "print(f'Initial Register Values\\n-----------------------')\n",
    "registers = instructions.registers\n",
    "for key, val in zip(registers.keys(),\n",
    "                    [str(register.value) for register in registers.values()]):\n",
    "                print(f'{key}: {val}')\n",
    "print()\n",
    "instructions_with_linenumbers = [f'{i+1}: {\" \".join(instructions.instruction_list[i])}' for i in range(len((instructions.instruction_list)))]\n",
    "instruction_print = '\\n'.join(instructions_with_linenumbers)\n",
    "print(f\"\"\"Instructions\n",
    "------------\n",
    "{instruction_print}\n",
    "\"\"\")\n",
    "print(\"Run program\\n-----------\")\n",
    "instructions.interpret()"
   ]
  },
  {
   "cell_type": "code",
   "execution_count": null,
   "metadata": {},
   "outputs": [],
   "source": []
  },
  {
   "cell_type": "code",
   "execution_count": null,
   "metadata": {},
   "outputs": [],
   "source": []
  }
 ],
 "metadata": {
  "kernelspec": {
   "display_name": "Python 3",
   "language": "python",
   "name": "python3"
  },
  "language_info": {
   "codemirror_mode": {
    "name": "ipython",
    "version": 3
   },
   "file_extension": ".py",
   "mimetype": "text/x-python",
   "name": "python",
   "nbconvert_exporter": "python",
   "pygments_lexer": "ipython3",
   "version": "3.6.6"
  }
 },
 "nbformat": 4,
 "nbformat_minor": 2
}
