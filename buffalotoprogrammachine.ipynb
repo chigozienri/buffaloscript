{
 "cells": [
  {
   "cell_type": "code",
   "execution_count": 35,
   "metadata": {},
   "outputs": [],
   "source": [
    "from buffalotoprogrammachine import interpret\n",
    "from programmachine import Register, Instructions"
   ]
  },
  {
   "cell_type": "code",
   "execution_count": 36,
   "metadata": {},
   "outputs": [],
   "source": [
    "# The Program Machine program we are aiming for\n",
    "src = \"\"\"buffalo 2\n",
    "Buffalo 0\n",
    "\n",
    "JZ buffalo 4\n",
    "DEC buffalo\n",
    "INC Buffalo\n",
    "JZ buffalo 0\n",
    "\"\"\""
   ]
  },
  {
   "cell_type": "code",
   "execution_count": 37,
   "metadata": {},
   "outputs": [],
   "source": [
    "program = \"Buffalo buffalo buffalo buffalo Buffalo buffalo buffalo. 🐃Swamp buffalo enjoy wallowing in mudholes they make with their horns🐃 Buffalo buffalo buffalo buffalo. Buffalo buffalo Buffalo buffalo buffalo buffalo buffalo buffalo buffalo buffalo Buffalo buffalo. Buffalo buffalo buffalo buffalo buffalo buffalo buffalo buffalo. Buffalo buffalo buffalo buffalo Buffalo buffalo Buffalo buffalo buffalo buffalo 🐃It's true!🐃. Buffalo buffalo Buffalo buffalo buffalo buffalo buffalo buffalo.\""
   ]
  },
  {
   "cell_type": "code",
   "execution_count": 38,
   "metadata": {},
   "outputs": [
    {
     "name": "stdout",
     "output_type": "stream",
     "text": [
      "buffalo 2\n",
      "Buffalo 0\n",
      "\n",
      "JZ buffalo 4\n",
      "DEC buffalo\n",
      "INC Buffalo\n",
      "JZ buffalo 0\n"
     ]
    }
   ],
   "source": [
    "src = interpret(program)\n",
    "print(src)"
   ]
  },
  {
   "cell_type": "code",
   "execution_count": 39,
   "metadata": {},
   "outputs": [
    {
     "name": "stdout",
     "output_type": "stream",
     "text": [
      "Initial Register Values\n",
      "-----------------------\n",
      "buffalo: 2\n",
      "Buffalo: 0\n",
      "\n",
      "Instructions\n",
      "------------\n",
      "1: JZ buffalo 4\n",
      "2: DEC buffalo\n",
      "3: INC Buffalo\n",
      "4: JZ buffalo 0\n",
      "\n",
      "Run program\n",
      "-----------\n",
      "line 1: register buffalo is not empty, doing nothing\n",
      "line 2: decreasing register buffalo from 2 to 1\n",
      "line 3: increasing register Buffalo from 0 to 1\n",
      "line 4: register buffalo is not empty, doing nothing\n",
      "line number out of range, halting\n",
      "\n",
      "Final Register Values on Halt\n",
      "-----------------------------\n",
      "buffalo: 1\n",
      "Buffalo: 1\n"
     ]
    }
   ],
   "source": [
    "instructions = Instructions(src)\n",
    "print(f'Initial Register Values\\n-----------------------')\n",
    "registers = instructions.registers\n",
    "for key, val in zip(registers.keys(),\n",
    "                    [str(register.value) for register in registers.values()]):\n",
    "                print(f'{key}: {val}')\n",
    "print()\n",
    "instructions_with_linenumbers = [f'{i+1}: {\" \".join(instructions.instruction_list[i])}' for i in range(len((instructions.instruction_list)))]\n",
    "instruction_print = '\\n'.join(instructions_with_linenumbers)\n",
    "print(f\"\"\"Instructions\n",
    "------------\n",
    "{instruction_print}\n",
    "\"\"\")\n",
    "print(\"Run program\\n-----------\")\n",
    "instructions.interpret()"
   ]
  }
 ],
 "metadata": {
  "kernelspec": {
   "display_name": "Python 3",
   "language": "python",
   "name": "python3"
  },
  "language_info": {
   "codemirror_mode": {
    "name": "ipython",
    "version": 3
   },
   "file_extension": ".py",
   "mimetype": "text/x-python",
   "name": "python",
   "nbconvert_exporter": "python",
   "pygments_lexer": "ipython3",
   "version": "3.6.10"
  }
 },
 "nbformat": 4,
 "nbformat_minor": 2
}