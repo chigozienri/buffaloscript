{
 "cells": [
  {
   "cell_type": "code",
   "execution_count": 7,
   "metadata": {},
   "outputs": [],
   "source": [
    "from buffaloparse import parse, parses"
   ]
  },
  {
   "cell_type": "code",
   "execution_count": 8,
   "metadata": {},
   "outputs": [],
   "source": [
    "good_sentences = [\"buffalo\",\n",
    "                  \"buffalo buffalo\",\n",
    "                  \"buffalo buffalo buffalo\",\n",
    "                  \"buffalo buffalo buffalo buffalo\",\n",
    "                  \"Buffalo buffalo buffalo\",\n",
    "                  \"Buffalo buffalo buffalo Buffalo buffalo\",\n",
    "                  \"Buffalo buffalo Buffalo buffalo buffalo buffalo Buffalo buffalo\",\n",
    "                  \"Buffalo buffalo Buffalo buffalo Buffalo buffalo buffalo buffalo buffalo\",\n",
    "                  \"Buffalo buffalo Buffalo buffalo buffalo buffalo Buffalo buffalo\"]"
   ]
  },
  {
   "cell_type": "code",
   "execution_count": 9,
   "metadata": {},
   "outputs": [],
   "source": [
    "for sentence in good_sentences:\n",
    "    assert parses(sentence)"
   ]
  },
  {
   "cell_type": "code",
   "execution_count": 10,
   "metadata": {},
   "outputs": [],
   "source": [
    "bad_sentences = [\"Buffalo\",\n",
    "                 \"Buffalo buffalo\",\n",
    "                 \"buffalo Buffalo\",\n",
    "                 \"Buffalo Buffalo buffalo\",\n",
    "                 \"Buffalo buffalo Buffalo buffalo buffalo\"]"
   ]
  },
  {
   "cell_type": "code",
   "execution_count": 11,
   "metadata": {},
   "outputs": [],
   "source": [
    "for sentence in bad_sentences:\n",
    "    assert not parses(sentence)"
   ]
  },
  {
   "cell_type": "code",
   "execution_count": 13,
   "metadata": {
    "tags": []
   },
   "outputs": [
    {
     "output_type": "stream",
     "name": "stdout",
     "text": "S                                       \n                                   |                                        \n                                   VP                                      \n                        ___________|_____________________________           \n                       NP                          |             |         \n          _____________|___________________        |             |          \n         NP                  NP            |       |             NP        \n    _____|_____         _____|_____        |       |        _____|_____     \n   A           N       A           N       V       V       A           N   \n   |           |       |           |       |       |       |           |    \nBuffalo     buffalo Buffalo     buffalo buffalo buffalo Buffalo     buffalo\n\n"
    }
   ],
   "source": [
    "parsed = parse('Buffalo buffalo Buffalo buffalo buffalo buffalo Buffalo buffalo')\n",
    "for tree in parsed:\n",
    "    tree.pretty_print()"
   ]
  }
 ],
 "metadata": {
  "kernelspec": {
   "display_name": "Python 3",
   "language": "python",
   "name": "python3"
  },
  "language_info": {
   "codemirror_mode": {
    "name": "ipython",
    "version": 3
   },
   "file_extension": ".py",
   "mimetype": "text/x-python",
   "name": "python",
   "nbconvert_exporter": "python",
   "pygments_lexer": "ipython3",
   "version": "3.6.10"
  }
 },
 "nbformat": 4,
 "nbformat_minor": 2
}