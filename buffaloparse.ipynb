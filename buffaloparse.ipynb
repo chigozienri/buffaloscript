{
 "cells": [
  {
   "cell_type": "code",
   "execution_count": 1,
   "metadata": {},
   "outputs": [],
   "source": [
    "from buffaloparse import parse, parses"
   ]
  },
  {
   "cell_type": "code",
   "execution_count": 2,
   "metadata": {},
   "outputs": [],
   "source": [
    "good_sentences = [\"buffalo\",\n",
    "                  \"buffalo buffalo\",\n",
    "                  \"buffalo buffalo buffalo\",\n",
    "                  \"buffalo buffalo buffalo buffalo\",\n",
    "                  \"Buffalo buffalo buffalo\",\n",
    "                  \"Buffalo buffalo buffalo Buffalo buffalo\",\n",
    "                  \"Buffalo buffalo Buffalo buffalo buffalo buffalo Buffalo buffalo\",\n",
    "                  \"Buffalo buffalo Buffalo buffalo Buffalo buffalo buffalo buffalo buffalo\",\n",
    "                  \"Buffalo buffalo Buffalo buffalo buffalo buffalo Buffalo buffalo\"]"
   ]
  },
  {
   "cell_type": "code",
   "execution_count": 3,
   "metadata": {},
   "outputs": [],
   "source": [
    "for sentence in good_sentences:\n",
    "    assert parse(sentence)"
   ]
  },
  {
   "cell_type": "code",
   "execution_count": 4,
   "metadata": {},
   "outputs": [],
   "source": [
    "bad_sentences = [\"Buffalo\",\n",
    "                 \"Buffalo buffalo\",\n",
    "                 \"buffalo Buffalo\",\n",
    "                 \"Buffalo Buffalo buffalo\",\n",
    "                 \"Buffalo buffalo Buffalo buffalo buffalo\"]"
   ]
  },
  {
   "cell_type": "code",
   "execution_count": 5,
   "metadata": {},
   "outputs": [],
   "source": [
    "for sentence in bad_sentences:\n",
    "    assert not parse(sentence)"
   ]
  },
  {
   "cell_type": "code",
   "execution_count": 6,
   "metadata": {},
   "outputs": [
    {
     "data": {
      "text/plain": [
       "[Tree('S', [Tree('VP', [Tree('NP', [Tree('NP', [Tree('A', ['Buffalo']), Tree('N', ['buffalo'])]), Tree('NP', [Tree('A', ['Buffalo']), Tree('N', ['buffalo'])]), Tree('V', ['buffalo'])]), Tree('V', ['buffalo']), Tree('NP', [Tree('A', ['Buffalo']), Tree('N', ['buffalo'])])])])]"
      ]
     },
     "execution_count": 6,
     "metadata": {},
     "output_type": "execute_result"
    }
   ],
   "source": [
    "parse(good_sentences[-1])"
   ]
  }
 ],
 "metadata": {
  "kernelspec": {
   "display_name": "Python 3",
   "language": "python",
   "name": "python3"
  },
  "language_info": {
   "codemirror_mode": {
    "name": "ipython",
    "version": 3
   },
   "file_extension": ".py",
   "mimetype": "text/x-python",
   "name": "python",
   "nbconvert_exporter": "python",
   "pygments_lexer": "ipython3",
   "version": "3.6.6"
  }
 },
 "nbformat": 4,
 "nbformat_minor": 2
}
