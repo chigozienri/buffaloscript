{
 "cells": [
  {
   "cell_type": "code",
   "execution_count": 1,
   "metadata": {},
   "outputs": [],
   "source": [
    "from programmachine import Register, Instructions"
   ]
  },
  {
   "cell_type": "code",
   "execution_count": 2,
   "metadata": {},
   "outputs": [
    {
     "name": "stdout",
     "output_type": "stream",
     "text": [
      "Initial Register Values\n",
      "-----------------------\n",
      "2: 2\n",
      "\n",
      "Instructions\n",
      "------------\n",
      "1: JZ 2 6\n",
      "2: DEC 2\n",
      "3: INC 3\n",
      "4: INC 1\n",
      "5: JZ 0 1\n",
      "6: JZ 1 10\n",
      "7: DEC 1\n",
      "8: INC 2\n",
      "9: JZ 0 6\n",
      "\n",
      "Run program\n",
      "-----------\n",
      "line 1: register 2 is not empty, doing nothing\n",
      "line 2: decreasing register 2 from 2 to 1\n",
      "creating register 3, initial value 0\n",
      "line 3: increasing register 3 from 0 to 1\n",
      "creating register 1, initial value 0\n",
      "line 4: increasing register 1 from 0 to 1\n",
      "creating register 0, initial value 0\n",
      "line 5: register 0 is empty, moving to line 1\n",
      "line 1: register 2 is not empty, doing nothing\n",
      "line 2: decreasing register 2 from 1 to 0\n",
      "line 3: increasing register 3 from 1 to 2\n",
      "line 4: increasing register 1 from 1 to 2\n",
      "line 5: register 0 is empty, moving to line 1\n",
      "line 1: register 2 is empty, moving to line 6\n",
      "line 6: register 1 is not empty, doing nothing\n",
      "line 7: decreasing register 1 from 2 to 1\n",
      "line 8: increasing register 2 from 0 to 1\n",
      "line 9: register 0 is empty, moving to line 6\n",
      "line 6: register 1 is not empty, doing nothing\n",
      "line 7: decreasing register 1 from 1 to 0\n",
      "line 8: increasing register 2 from 1 to 2\n",
      "line 9: register 0 is empty, moving to line 6\n",
      "line 6: register 1 is empty, moving to line 10\n",
      "line number out of range, halting\n",
      "\n",
      "Final Register Values on Halt\n",
      "-----------------------------\n",
      "2: 2\n",
      "3: 2\n",
      "1: 0\n",
      "0: 0\n"
     ]
    }
   ],
   "source": [
    "src = \"\"\"2 2\n",
    "\n",
    "JZ 2 6\n",
    "DEC 2\n",
    "INC 3\n",
    "INC 1\n",
    "JZ 0 1\n",
    "JZ 1 10\n",
    "DEC 1\n",
    "INC 2\n",
    "JZ 0 6\n",
    "\"\"\"\n",
    "\n",
    "instructions = Instructions(src)\n",
    "print(f'Initial Register Values\\n-----------------------')\n",
    "registers = instructions.registers\n",
    "for key, val in zip(registers.keys(),\n",
    "                    [str(register.value) for register in registers.values()]):\n",
    "                print(f'{key}: {val}')\n",
    "print()\n",
    "instructions_with_linenumbers = [f'{i+1}: {\" \".join(instructions.instruction_list[i])}' for i in range(len((instructions.instruction_list)))]\n",
    "instruction_print = '\\n'.join(instructions_with_linenumbers)\n",
    "print(f\"\"\"Instructions\n",
    "------------\n",
    "{instruction_print}\n",
    "\"\"\")\n",
    "print(\"Run program\\n-----------\")\n",
    "instructions.interpret()\n"
   ]
  },
  {
   "cell_type": "code",
   "execution_count": null,
   "metadata": {},
   "outputs": [],
   "source": []
  }
 ],
 "metadata": {
  "kernelspec": {
   "display_name": "Python 3",
   "language": "python",
   "name": "python3"
  },
  "language_info": {
   "codemirror_mode": {
    "name": "ipython",
    "version": 3
   },
   "file_extension": ".py",
   "mimetype": "text/x-python",
   "name": "python",
   "nbconvert_exporter": "python",
   "pygments_lexer": "ipython3",
   "version": "3.6.6"
  }
 },
 "nbformat": 4,
 "nbformat_minor": 2
}
